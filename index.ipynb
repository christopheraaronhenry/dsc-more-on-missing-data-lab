{
 "cells": [
  {
   "cell_type": "markdown",
   "metadata": {},
   "source": [
    "# More on Missing Data - Lab\n",
    "\n",
    "## Introduction\n",
    "\n",
    "In this lab, you'll continue to practice techniques for dealing with missing data. Moreover, you'll observe the impact on distributions of your data produced by various techniques for dealing with missing data.\n",
    "\n",
    "## Objectives\n",
    "\n",
    "In this lab you will: \n",
    "\n",
    "- Evaluate and execute the best strategy for dealing with missing, duplicate, and erroneous values for a given dataset   \n",
    "- Determine how the distribution of data is affected by imputing values "
   ]
  },
  {
   "cell_type": "markdown",
   "metadata": {},
   "source": [
    "## Load the data\n",
    "\n",
    "To start, load the dataset `'titanic.csv'` using pandas."
   ]
  },
  {
   "cell_type": "code",
   "execution_count": 4,
   "metadata": {},
   "outputs": [],
   "source": [
    "# Your code here\n",
    "import pandas as pd\n",
    "import matplotlib.pyplot as plt\n",
    "%matplotlib inline\n",
    "df = pd.read_csv('titanic.csv')"
   ]
  },
  {
   "cell_type": "markdown",
   "metadata": {},
   "source": [
    "Use the `.info()` method to quickly preview which features have missing data"
   ]
  },
  {
   "cell_type": "code",
   "execution_count": 5,
   "metadata": {},
   "outputs": [
    {
     "name": "stdout",
     "output_type": "stream",
     "text": [
      "<class 'pandas.core.frame.DataFrame'>\n",
      "RangeIndex: 1391 entries, 0 to 1390\n",
      "Data columns (total 12 columns):\n",
      " #   Column       Non-Null Count  Dtype  \n",
      "---  ------       --------------  -----  \n",
      " 0   PassengerId  1391 non-null   float64\n",
      " 1   Survived     1391 non-null   float64\n",
      " 2   Pclass       1391 non-null   object \n",
      " 3   Name         1391 non-null   object \n",
      " 4   Sex          1391 non-null   object \n",
      " 5   Age          1209 non-null   float64\n",
      " 6   SibSp        1391 non-null   float64\n",
      " 7   Parch        1391 non-null   float64\n",
      " 8   Ticket       1391 non-null   object \n",
      " 9   Fare         1391 non-null   float64\n",
      " 10  Cabin        602 non-null    object \n",
      " 11  Embarked     1289 non-null   object \n",
      "dtypes: float64(6), object(6)\n",
      "memory usage: 130.5+ KB\n"
     ]
    }
   ],
   "source": [
    "# Your code here\n",
    "df.info()"
   ]
  },
  {
   "cell_type": "markdown",
   "metadata": {},
   "source": [
    "## Observe previous measures of centrality\n",
    "\n",
    "Let's look at the `'Age'` feature. Calculate the mean, median, and standard deviation of this feature. Then plot a histogram of the distribution."
   ]
  },
  {
   "cell_type": "code",
   "execution_count": 6,
   "metadata": {},
   "outputs": [
    {
     "name": "stdout",
     "output_type": "stream",
     "text": [
      "mean Age: 29.731894127378\n",
      "median Age: 27.0\n",
      "std of Age: 16.0701246034447\n"
     ]
    },
    {
     "name": "stderr",
     "output_type": "stream",
     "text": [
      "C:\\Users\\chris\\.conda\\envs\\learn-env\\lib\\site-packages\\numpy\\lib\\histograms.py:839: RuntimeWarning: invalid value encountered in greater_equal\n",
      "  keep = (tmp_a >= first_edge)\n",
      "C:\\Users\\chris\\.conda\\envs\\learn-env\\lib\\site-packages\\numpy\\lib\\histograms.py:840: RuntimeWarning: invalid value encountered in less_equal\n",
      "  keep &= (tmp_a <= last_edge)\n"
     ]
    },
    {
     "data": {
      "text/plain": [
       "Text(0.5, 1.0, 'Distribution of Ages')"
      ]
     },
     "execution_count": 6,
     "metadata": {},
     "output_type": "execute_result"
    },
    {
     "data": {
      "image/png": "[encoded data removed]",
      "text/plain": [
       "<Figure size 432x288 with 1 Axes>"
      ]
     },
     "metadata": {
      "needs_background": "light"
     },
     "output_type": "display_data"
    }
   ],
   "source": [
    "# Your code here\n",
    "print('mean Age: {}'.format(df['Age'].mean()))\n",
    "print('median Age: {}'.format(df['Age'].median()))\n",
    "print('std of Age: {}'.format(df['Age'].std()))\n",
    "\n",
    "figure, ax = plt.subplots()\n",
    "ax.hist(df['Age'],color='gray', bins=80)\n",
    "ax.set_xlabel('Age')\n",
    "ax.set_ylabel('count')\n",
    "ax.set_title('Distribution of Ages')"
   ]
  },
  {
   "cell_type": "markdown",
   "metadata": {},
   "source": [
    "## Impute missing values using the mean \n",
    "\n",
    "Fill the missing `'Age'` values using the average age. (Don't overwrite the original data, as we will be comparing to other methods for dealing with the missing values.) Then recalculate the mean, median, and std and replot the histogram."
   ]
  },
  {
   "cell_type": "code",
   "execution_count": 7,
   "metadata": {
    "scrolled": true
   },
   "outputs": [
    {
     "name": "stdout",
     "output_type": "stream",
     "text": [
      "mean Age: 29.731894127377995\n",
      "median Age: 29.731894127378\n",
      "std of Age: 14.98115547604539\n"
     ]
    }
   ],
   "source": [
    "# Your code here\n",
    "corrected_age = df['Age'].fillna(df['Age'].mean())\n",
    "print('mean Age: {}'.format(corrected_age.mean()))\n",
    "print('median Age: {}'.format(corrected_age.median()))\n",
    "print('std of Age: {}'.format(corrected_age.std()))"
   ]
  },
  {
   "cell_type": "markdown",
   "metadata": {},
   "source": [
    "### Commentary\n",
    "\n",
    "Note that the standard deviation dropped, the median was slightly raised and the distribution has a larger mass near the center."
   ]
  },
  {
   "cell_type": "markdown",
   "metadata": {},
   "source": [
    "## Impute missing values using the median \n",
    "\n",
    "Fill the missing `'Age'` values, this time using the median age. (Again, don't overwrite the original data, as we will be comparing to other methods for dealing with the missing values.) Then recalculate the mean, median, and std and replot the histogram."
   ]
  },
  {
   "cell_type": "code",
   "execution_count": 8,
   "metadata": {},
   "outputs": [
    {
     "name": "stdout",
     "output_type": "stream",
     "text": [
      "mean Age: 29.37445003594536\n",
      "median Age: 27.0\n",
      "std of Age: 15.009475778073455\n"
     ]
    }
   ],
   "source": [
    "# Your code here\n",
    "corrected_age = df['Age'].fillna(df['Age'].median())\n",
    "print('mean Age: {}'.format(corrected_age.mean()))\n",
    "print('median Age: {}'.format(corrected_age.median()))\n",
    "print('std of Age: {}'.format(corrected_age.std()))"
   ]
  },
  {
   "cell_type": "markdown",
   "metadata": {},
   "source": [
    "### Commentary\n",
    "\n",
    "Imputing the median has similar effectiveness to imputing the mean. The variance is reduced, while the mean is slightly lowered. You can once again see that there is a larger mass of data near the center of the distribution."
   ]
  },
  {
   "cell_type": "markdown",
   "metadata": {},
   "source": [
    "## Dropping rows\n",
    "\n",
    "Finally, let's observe the impact on the distribution if we were to simply drop all of the rows that are missing an age value. Then, calculate the mean, median and standard deviation of the ages along with a histogram, as before."
   ]
  },
  {
   "cell_type": "code",
   "execution_count": 20,
   "metadata": {},
   "outputs": [
    {
     "name": "stdout",
     "output_type": "stream",
     "text": [
      "mean Age: 29.731894127378\n",
      "median Age: 27.0\n",
      "std of Age: 16.0701246034447\n"
     ]
    }
   ],
   "source": [
    "# Your code here\n",
    "corrected_age = df['Age']\n",
    "corrected_age.dropna(axis=0, inplace=True)\n",
    "print('mean Age: {}'.format(corrected_age.mean()))\n",
    "print('median Age: {}'.format(corrected_age.median()))\n",
    "print('std of Age: {}'.format(corrected_age.std()))"
   ]
  },
  {
   "cell_type": "markdown",
   "metadata": {},
   "source": [
    "### Commentary\n",
    "\n",
    "Dropping missing values leaves the distribution and associated measures of centrality unchanged, but at the cost of throwing away data.\n",
    "\n",
    "## Summary\n",
    "\n",
    "In this lab, you briefly practiced some common techniques for dealing with missing data. Moreover, you observed the impact that these methods had on the distribution of the feature itself. When you begin to tune models on your data, these considerations will be an essential process of developing robust and accurate models."
   ]
  }
 ],
 "metadata": {
  "kernelspec": {
   "display_name": "Python 3",
   "language": "python",
   "name": "python3"
  },
  "language_info": {
   "codemirror_mode": {
    "name": "ipython",
    "version": 3
   },
   "file_extension": ".py",
   "mimetype": "text/x-python",
   "name": "python",
   "nbconvert_exporter": "python",
   "pygments_lexer": "ipython3",
   "version": "3.8.5"
  }
 },
 "nbformat": 4,
 "nbformat_minor": 2
}
